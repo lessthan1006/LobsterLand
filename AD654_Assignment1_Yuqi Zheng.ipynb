{
 "cells": [
  {
   "cell_type": "code",
   "execution_count": 1,
   "metadata": {},
   "outputs": [
    {
     "name": "stdout",
     "output_type": "stream",
     "text": [
      "/Users/yuqizheng/Downloads\n"
     ]
    }
   ],
   "source": [
    "%cd /Users/yuqizheng/Downloads/"
   ]
  },
  {
   "cell_type": "code",
   "execution_count": 2,
   "metadata": {},
   "outputs": [
    {
     "name": "stdout",
     "output_type": "stream",
     "text": [
      "/Users/yuqizheng/Downloads\n"
     ]
    }
   ],
   "source": [
    "import pandas as pd\n",
    "import numpy as np\n",
    "import matplotlib.pyplot as plt\n",
    "%matplotlib inline\n",
    "import seaborn as sns\n",
    "%cd /Users/yuqizheng/Downloads/\n",
    "lob =  pd.read_csv(\"lobsterland.csv\")"
   ]
  },
  {
   "cell_type": "code",
   "execution_count": 3,
   "metadata": {},
   "outputs": [
    {
     "data": {
      "text/html": [
       "<div>\n",
       "<style scoped>\n",
       "    .dataframe tbody tr th:only-of-type {\n",
       "        vertical-align: middle;\n",
       "    }\n",
       "\n",
       "    .dataframe tbody tr th {\n",
       "        vertical-align: top;\n",
       "    }\n",
       "\n",
       "    .dataframe thead th {\n",
       "        text-align: right;\n",
       "    }\n",
       "</style>\n",
       "<table border=\"1\" class=\"dataframe\">\n",
       "  <thead>\n",
       "    <tr style=\"text-align: right;\">\n",
       "      <th></th>\n",
       "      <th>Date</th>\n",
       "      <th>Ad.Spend..Prior.Week</th>\n",
       "      <th>Promo1...Kids.Free.before.10am.</th>\n",
       "      <th>Promo2...Kids.Free.After.5pm.</th>\n",
       "      <th>Average.Gas.Cost..New.England</th>\n",
       "      <th>Day.of.Week</th>\n",
       "      <th>High.Temperature</th>\n",
       "      <th>Weather</th>\n",
       "      <th>Day.Passes.Sold</th>\n",
       "      <th>Water.Bottles.Sold</th>\n",
       "      <th>Lobster.Rolls.Sold</th>\n",
       "      <th>Ice.Cream.Cones.Sold</th>\n",
       "      <th>Refrigerator.Magnets.Sold</th>\n",
       "      <th>Larry.the.Lobster.Stuffed.Animals</th>\n",
       "      <th>TotalDailyRev</th>\n",
       "    </tr>\n",
       "  </thead>\n",
       "  <tbody>\n",
       "    <tr>\n",
       "      <td>0</td>\n",
       "      <td>27May2019</td>\n",
       "      <td>8500</td>\n",
       "      <td>1</td>\n",
       "      <td>0</td>\n",
       "      <td>$2.61</td>\n",
       "      <td>Monday</td>\n",
       "      <td>61</td>\n",
       "      <td>Sunny</td>\n",
       "      <td>2727</td>\n",
       "      <td>2990</td>\n",
       "      <td>1927</td>\n",
       "      <td>2484</td>\n",
       "      <td>21</td>\n",
       "      <td>169</td>\n",
       "      <td>55509.868</td>\n",
       "    </tr>\n",
       "    <tr>\n",
       "      <td>1</td>\n",
       "      <td>28May2019</td>\n",
       "      <td>8500</td>\n",
       "      <td>0</td>\n",
       "      <td>0</td>\n",
       "      <td>$2.67</td>\n",
       "      <td>Tuesday</td>\n",
       "      <td>67</td>\n",
       "      <td>Overcast</td>\n",
       "      <td>1696</td>\n",
       "      <td>1589</td>\n",
       "      <td>1927</td>\n",
       "      <td>1626</td>\n",
       "      <td>74</td>\n",
       "      <td>185</td>\n",
       "      <td>40709.758</td>\n",
       "    </tr>\n",
       "    <tr>\n",
       "      <td>2</td>\n",
       "      <td>29May2019</td>\n",
       "      <td>8500</td>\n",
       "      <td>0</td>\n",
       "      <td>0</td>\n",
       "      <td>$2.75</td>\n",
       "      <td>Wednesday</td>\n",
       "      <td>61</td>\n",
       "      <td>Sunny</td>\n",
       "      <td>1175</td>\n",
       "      <td>1650</td>\n",
       "      <td>1721</td>\n",
       "      <td>1089</td>\n",
       "      <td>11</td>\n",
       "      <td>83</td>\n",
       "      <td>31696.150</td>\n",
       "    </tr>\n",
       "    <tr>\n",
       "      <td>3</td>\n",
       "      <td>30May2019</td>\n",
       "      <td>8500</td>\n",
       "      <td>0</td>\n",
       "      <td>0</td>\n",
       "      <td>$3.14</td>\n",
       "      <td>Thursday</td>\n",
       "      <td>69</td>\n",
       "      <td>Rainy</td>\n",
       "      <td>850</td>\n",
       "      <td>1591</td>\n",
       "      <td>918</td>\n",
       "      <td>1358</td>\n",
       "      <td>24</td>\n",
       "      <td>87</td>\n",
       "      <td>22787.800</td>\n",
       "    </tr>\n",
       "    <tr>\n",
       "      <td>4</td>\n",
       "      <td>31May2019</td>\n",
       "      <td>8500</td>\n",
       "      <td>0</td>\n",
       "      <td>0</td>\n",
       "      <td>$2.91</td>\n",
       "      <td>Friday</td>\n",
       "      <td>63</td>\n",
       "      <td>Overcast</td>\n",
       "      <td>2296</td>\n",
       "      <td>2779</td>\n",
       "      <td>1920</td>\n",
       "      <td>2039</td>\n",
       "      <td>21</td>\n",
       "      <td>202</td>\n",
       "      <td>49656.828</td>\n",
       "    </tr>\n",
       "  </tbody>\n",
       "</table>\n",
       "</div>"
      ],
      "text/plain": [
       "        Date  Ad.Spend..Prior.Week  Promo1...Kids.Free.before.10am.  \\\n",
       "0  27May2019                  8500                                1   \n",
       "1  28May2019                  8500                                0   \n",
       "2  29May2019                  8500                                0   \n",
       "3  30May2019                  8500                                0   \n",
       "4  31May2019                  8500                                0   \n",
       "\n",
       "   Promo2...Kids.Free.After.5pm. Average.Gas.Cost..New.England Day.of.Week  \\\n",
       "0                              0                         $2.61      Monday   \n",
       "1                              0                         $2.67     Tuesday   \n",
       "2                              0                         $2.75   Wednesday   \n",
       "3                              0                         $3.14    Thursday   \n",
       "4                              0                         $2.91      Friday   \n",
       "\n",
       "   High.Temperature   Weather  Day.Passes.Sold  Water.Bottles.Sold  \\\n",
       "0                61     Sunny             2727                2990   \n",
       "1                67  Overcast             1696                1589   \n",
       "2                61     Sunny             1175                1650   \n",
       "3                69     Rainy              850                1591   \n",
       "4                63  Overcast             2296                2779   \n",
       "\n",
       "   Lobster.Rolls.Sold  Ice.Cream.Cones.Sold  Refrigerator.Magnets.Sold  \\\n",
       "0                1927                  2484                         21   \n",
       "1                1927                  1626                         74   \n",
       "2                1721                  1089                         11   \n",
       "3                 918                  1358                         24   \n",
       "4                1920                  2039                         21   \n",
       "\n",
       "   Larry.the.Lobster.Stuffed.Animals  TotalDailyRev  \n",
       "0                                169      55509.868  \n",
       "1                                185      40709.758  \n",
       "2                                 83      31696.150  \n",
       "3                                 87      22787.800  \n",
       "4                                202      49656.828  "
      ]
     },
     "execution_count": 3,
     "metadata": {},
     "output_type": "execute_result"
    }
   ],
   "source": [
    "lob.head()"
   ]
  },
  {
   "cell_type": "markdown",
   "metadata": {},
   "source": [
    "There are 5 rows in lob dataset"
   ]
  },
  {
   "cell_type": "code",
   "execution_count": 4,
   "metadata": {},
   "outputs": [
    {
     "data": {
      "text/plain": [
       "(99, 15)"
      ]
     },
     "execution_count": 4,
     "metadata": {},
     "output_type": "execute_result"
    }
   ],
   "source": [
    "lob.shape"
   ]
  },
  {
   "cell_type": "markdown",
   "metadata": {},
   "source": [
    "There are 99 rows and 15 coloums in lob dataset."
   ]
  },
  {
   "cell_type": "code",
   "execution_count": 5,
   "metadata": {},
   "outputs": [
    {
     "data": {
      "text/html": [
       "<div>\n",
       "<style scoped>\n",
       "    .dataframe tbody tr th:only-of-type {\n",
       "        vertical-align: middle;\n",
       "    }\n",
       "\n",
       "    .dataframe tbody tr th {\n",
       "        vertical-align: top;\n",
       "    }\n",
       "\n",
       "    .dataframe thead th {\n",
       "        text-align: right;\n",
       "    }\n",
       "</style>\n",
       "<table border=\"1\" class=\"dataframe\">\n",
       "  <thead>\n",
       "    <tr style=\"text-align: right;\">\n",
       "      <th></th>\n",
       "      <th>count</th>\n",
       "      <th>mean</th>\n",
       "      <th>std</th>\n",
       "      <th>min</th>\n",
       "      <th>25%</th>\n",
       "      <th>50%</th>\n",
       "      <th>75%</th>\n",
       "      <th>max</th>\n",
       "    </tr>\n",
       "    <tr>\n",
       "      <th>Day.of.Week</th>\n",
       "      <th></th>\n",
       "      <th></th>\n",
       "      <th></th>\n",
       "      <th></th>\n",
       "      <th></th>\n",
       "      <th></th>\n",
       "      <th></th>\n",
       "      <th></th>\n",
       "    </tr>\n",
       "  </thead>\n",
       "  <tbody>\n",
       "    <tr>\n",
       "      <td>Friday</td>\n",
       "      <td>14.0</td>\n",
       "      <td>61745.569143</td>\n",
       "      <td>14036.340176</td>\n",
       "      <td>43015.632</td>\n",
       "      <td>50227.5010</td>\n",
       "      <td>61338.139</td>\n",
       "      <td>67330.4860</td>\n",
       "      <td>91014.164</td>\n",
       "    </tr>\n",
       "    <tr>\n",
       "      <td>Monday</td>\n",
       "      <td>15.0</td>\n",
       "      <td>43059.519333</td>\n",
       "      <td>12317.141898</td>\n",
       "      <td>24283.258</td>\n",
       "      <td>37180.0600</td>\n",
       "      <td>42013.518</td>\n",
       "      <td>46007.0980</td>\n",
       "      <td>77921.194</td>\n",
       "    </tr>\n",
       "    <tr>\n",
       "      <td>Saturday</td>\n",
       "      <td>14.0</td>\n",
       "      <td>67453.798857</td>\n",
       "      <td>7131.350873</td>\n",
       "      <td>57535.676</td>\n",
       "      <td>63006.6165</td>\n",
       "      <td>65952.374</td>\n",
       "      <td>72994.2915</td>\n",
       "      <td>81434.298</td>\n",
       "    </tr>\n",
       "    <tr>\n",
       "      <td>Sunday</td>\n",
       "      <td>14.0</td>\n",
       "      <td>67971.901857</td>\n",
       "      <td>12167.223585</td>\n",
       "      <td>46122.592</td>\n",
       "      <td>63448.2350</td>\n",
       "      <td>65622.926</td>\n",
       "      <td>73242.1560</td>\n",
       "      <td>97555.016</td>\n",
       "    </tr>\n",
       "    <tr>\n",
       "      <td>Thursday</td>\n",
       "      <td>14.0</td>\n",
       "      <td>36854.192571</td>\n",
       "      <td>16317.853200</td>\n",
       "      <td>22787.800</td>\n",
       "      <td>27779.8830</td>\n",
       "      <td>31216.131</td>\n",
       "      <td>41580.8575</td>\n",
       "      <td>87893.128</td>\n",
       "    </tr>\n",
       "    <tr>\n",
       "      <td>Tuesday</td>\n",
       "      <td>14.0</td>\n",
       "      <td>27270.098000</td>\n",
       "      <td>6759.023229</td>\n",
       "      <td>17450.012</td>\n",
       "      <td>22414.4550</td>\n",
       "      <td>27731.748</td>\n",
       "      <td>31442.8465</td>\n",
       "      <td>40709.758</td>\n",
       "    </tr>\n",
       "    <tr>\n",
       "      <td>Wednesday</td>\n",
       "      <td>14.0</td>\n",
       "      <td>26676.568000</td>\n",
       "      <td>5509.486176</td>\n",
       "      <td>19296.560</td>\n",
       "      <td>23395.8050</td>\n",
       "      <td>25007.440</td>\n",
       "      <td>29703.8340</td>\n",
       "      <td>40391.728</td>\n",
       "    </tr>\n",
       "  </tbody>\n",
       "</table>\n",
       "</div>"
      ],
      "text/plain": [
       "             count          mean           std        min         25%  \\\n",
       "Day.of.Week                                                             \n",
       "Friday        14.0  61745.569143  14036.340176  43015.632  50227.5010   \n",
       "Monday        15.0  43059.519333  12317.141898  24283.258  37180.0600   \n",
       "Saturday      14.0  67453.798857   7131.350873  57535.676  63006.6165   \n",
       "Sunday        14.0  67971.901857  12167.223585  46122.592  63448.2350   \n",
       "Thursday      14.0  36854.192571  16317.853200  22787.800  27779.8830   \n",
       "Tuesday       14.0  27270.098000   6759.023229  17450.012  22414.4550   \n",
       "Wednesday     14.0  26676.568000   5509.486176  19296.560  23395.8050   \n",
       "\n",
       "                   50%         75%        max  \n",
       "Day.of.Week                                    \n",
       "Friday       61338.139  67330.4860  91014.164  \n",
       "Monday       42013.518  46007.0980  77921.194  \n",
       "Saturday     65952.374  72994.2915  81434.298  \n",
       "Sunday       65622.926  73242.1560  97555.016  \n",
       "Thursday     31216.131  41580.8575  87893.128  \n",
       "Tuesday      27731.748  31442.8465  40709.758  \n",
       "Wednesday    25007.440  29703.8340  40391.728  "
      ]
     },
     "execution_count": 5,
     "metadata": {},
     "output_type": "execute_result"
    }
   ],
   "source": [
    "lob.groupby('Day.of.Week')['TotalDailyRev'].describe()"
   ]
  },
  {
   "cell_type": "markdown",
   "metadata": {},
   "source": [
    "Wednesday's standard deviation is the smallest, which means the customer flow in Wednesday is more stable but is the lowest than other days. Comparing Saturday and Sunday, Sunday has the highest mean but lower std, which means Sunday has less customer flow but customer pay more than Saturday. This result is same as I expect because on weekdends and Friday, there should be more customers than other days. In addition, lots of vacation happens on Monday, so Monday is also buiser than Tue, Wed and Thur."
   ]
  },
  {
   "cell_type": "code",
   "execution_count": 6,
   "metadata": {},
   "outputs": [],
   "source": [
    "lob.drop('Refrigerator.Magnets.Sold',1, inplace=True)"
   ]
  },
  {
   "cell_type": "code",
   "execution_count": 7,
   "metadata": {},
   "outputs": [
    {
     "data": {
      "text/html": [
       "<div>\n",
       "<style scoped>\n",
       "    .dataframe tbody tr th:only-of-type {\n",
       "        vertical-align: middle;\n",
       "    }\n",
       "\n",
       "    .dataframe tbody tr th {\n",
       "        vertical-align: top;\n",
       "    }\n",
       "\n",
       "    .dataframe thead th {\n",
       "        text-align: right;\n",
       "    }\n",
       "</style>\n",
       "<table border=\"1\" class=\"dataframe\">\n",
       "  <thead>\n",
       "    <tr style=\"text-align: right;\">\n",
       "      <th></th>\n",
       "      <th>Date</th>\n",
       "      <th>Ad.Spend..Prior.Week</th>\n",
       "      <th>Promo1...Kids.Free.before.10am.</th>\n",
       "      <th>Promo2...Kids.Free.After.5pm.</th>\n",
       "      <th>Average.Gas.Cost..New.England</th>\n",
       "      <th>Day.of.Week</th>\n",
       "      <th>High.Temperature</th>\n",
       "      <th>Weather</th>\n",
       "      <th>Day.Passes.Sold</th>\n",
       "      <th>Water.Bottles.Sold</th>\n",
       "      <th>Lobster.Rolls.Sold</th>\n",
       "      <th>Ice.Cream.Cones.Sold</th>\n",
       "      <th>Larry.the.Lobster.Stuffed.Animals</th>\n",
       "      <th>TotalDailyRev</th>\n",
       "    </tr>\n",
       "  </thead>\n",
       "  <tbody>\n",
       "    <tr>\n",
       "      <td>0</td>\n",
       "      <td>27May2019</td>\n",
       "      <td>8500</td>\n",
       "      <td>1</td>\n",
       "      <td>0</td>\n",
       "      <td>$2.61</td>\n",
       "      <td>Monday</td>\n",
       "      <td>61</td>\n",
       "      <td>Sunny</td>\n",
       "      <td>2727</td>\n",
       "      <td>2990</td>\n",
       "      <td>1927</td>\n",
       "      <td>2484</td>\n",
       "      <td>169</td>\n",
       "      <td>55509.868</td>\n",
       "    </tr>\n",
       "    <tr>\n",
       "      <td>1</td>\n",
       "      <td>28May2019</td>\n",
       "      <td>8500</td>\n",
       "      <td>0</td>\n",
       "      <td>0</td>\n",
       "      <td>$2.67</td>\n",
       "      <td>Tuesday</td>\n",
       "      <td>67</td>\n",
       "      <td>Overcast</td>\n",
       "      <td>1696</td>\n",
       "      <td>1589</td>\n",
       "      <td>1927</td>\n",
       "      <td>1626</td>\n",
       "      <td>185</td>\n",
       "      <td>40709.758</td>\n",
       "    </tr>\n",
       "    <tr>\n",
       "      <td>2</td>\n",
       "      <td>29May2019</td>\n",
       "      <td>8500</td>\n",
       "      <td>0</td>\n",
       "      <td>0</td>\n",
       "      <td>$2.75</td>\n",
       "      <td>Wednesday</td>\n",
       "      <td>61</td>\n",
       "      <td>Sunny</td>\n",
       "      <td>1175</td>\n",
       "      <td>1650</td>\n",
       "      <td>1721</td>\n",
       "      <td>1089</td>\n",
       "      <td>83</td>\n",
       "      <td>31696.150</td>\n",
       "    </tr>\n",
       "    <tr>\n",
       "      <td>3</td>\n",
       "      <td>30May2019</td>\n",
       "      <td>8500</td>\n",
       "      <td>0</td>\n",
       "      <td>0</td>\n",
       "      <td>$3.14</td>\n",
       "      <td>Thursday</td>\n",
       "      <td>69</td>\n",
       "      <td>Rainy</td>\n",
       "      <td>850</td>\n",
       "      <td>1591</td>\n",
       "      <td>918</td>\n",
       "      <td>1358</td>\n",
       "      <td>87</td>\n",
       "      <td>22787.800</td>\n",
       "    </tr>\n",
       "    <tr>\n",
       "      <td>4</td>\n",
       "      <td>31May2019</td>\n",
       "      <td>8500</td>\n",
       "      <td>0</td>\n",
       "      <td>0</td>\n",
       "      <td>$2.91</td>\n",
       "      <td>Friday</td>\n",
       "      <td>63</td>\n",
       "      <td>Overcast</td>\n",
       "      <td>2296</td>\n",
       "      <td>2779</td>\n",
       "      <td>1920</td>\n",
       "      <td>2039</td>\n",
       "      <td>202</td>\n",
       "      <td>49656.828</td>\n",
       "    </tr>\n",
       "    <tr>\n",
       "      <td>...</td>\n",
       "      <td>...</td>\n",
       "      <td>...</td>\n",
       "      <td>...</td>\n",
       "      <td>...</td>\n",
       "      <td>...</td>\n",
       "      <td>...</td>\n",
       "      <td>...</td>\n",
       "      <td>...</td>\n",
       "      <td>...</td>\n",
       "      <td>...</td>\n",
       "      <td>...</td>\n",
       "      <td>...</td>\n",
       "      <td>...</td>\n",
       "      <td>...</td>\n",
       "    </tr>\n",
       "    <tr>\n",
       "      <td>94</td>\n",
       "      <td>29August2019</td>\n",
       "      <td>6500</td>\n",
       "      <td>0</td>\n",
       "      <td>0</td>\n",
       "      <td>$2.50</td>\n",
       "      <td>Thursday</td>\n",
       "      <td>75</td>\n",
       "      <td>Sunny</td>\n",
       "      <td>1508</td>\n",
       "      <td>1974</td>\n",
       "      <td>2317</td>\n",
       "      <td>1663</td>\n",
       "      <td>77</td>\n",
       "      <td>41960.048</td>\n",
       "    </tr>\n",
       "    <tr>\n",
       "      <td>95</td>\n",
       "      <td>30August2019</td>\n",
       "      <td>6500</td>\n",
       "      <td>0</td>\n",
       "      <td>0</td>\n",
       "      <td>$2.30</td>\n",
       "      <td>Friday</td>\n",
       "      <td>79</td>\n",
       "      <td>Overcast</td>\n",
       "      <td>3999</td>\n",
       "      <td>4740</td>\n",
       "      <td>2957</td>\n",
       "      <td>4437</td>\n",
       "      <td>389</td>\n",
       "      <td>86131.970</td>\n",
       "    </tr>\n",
       "    <tr>\n",
       "      <td>96</td>\n",
       "      <td>31August2019</td>\n",
       "      <td>6500</td>\n",
       "      <td>0</td>\n",
       "      <td>0</td>\n",
       "      <td>$2.35</td>\n",
       "      <td>Saturday</td>\n",
       "      <td>80</td>\n",
       "      <td>Sunny</td>\n",
       "      <td>3274</td>\n",
       "      <td>4579</td>\n",
       "      <td>1982</td>\n",
       "      <td>2874</td>\n",
       "      <td>320</td>\n",
       "      <td>65784.720</td>\n",
       "    </tr>\n",
       "    <tr>\n",
       "      <td>97</td>\n",
       "      <td>1September2019</td>\n",
       "      <td>6500</td>\n",
       "      <td>0</td>\n",
       "      <td>0</td>\n",
       "      <td>$2.54</td>\n",
       "      <td>Sunday</td>\n",
       "      <td>76</td>\n",
       "      <td>Overcast</td>\n",
       "      <td>3068</td>\n",
       "      <td>3887</td>\n",
       "      <td>2397</td>\n",
       "      <td>2732</td>\n",
       "      <td>183</td>\n",
       "      <td>64981.580</td>\n",
       "    </tr>\n",
       "    <tr>\n",
       "      <td>98</td>\n",
       "      <td>2September2019</td>\n",
       "      <td>6500</td>\n",
       "      <td>0</td>\n",
       "      <td>1</td>\n",
       "      <td>$2.62</td>\n",
       "      <td>Monday</td>\n",
       "      <td>72</td>\n",
       "      <td>Sunny</td>\n",
       "      <td>3411</td>\n",
       "      <td>4114</td>\n",
       "      <td>3093</td>\n",
       "      <td>3744</td>\n",
       "      <td>296</td>\n",
       "      <td>77921.194</td>\n",
       "    </tr>\n",
       "  </tbody>\n",
       "</table>\n",
       "<p>99 rows × 14 columns</p>\n",
       "</div>"
      ],
      "text/plain": [
       "              Date  Ad.Spend..Prior.Week  Promo1...Kids.Free.before.10am.  \\\n",
       "0        27May2019                  8500                                1   \n",
       "1        28May2019                  8500                                0   \n",
       "2        29May2019                  8500                                0   \n",
       "3        30May2019                  8500                                0   \n",
       "4        31May2019                  8500                                0   \n",
       "..             ...                   ...                              ...   \n",
       "94    29August2019                  6500                                0   \n",
       "95    30August2019                  6500                                0   \n",
       "96    31August2019                  6500                                0   \n",
       "97  1September2019                  6500                                0   \n",
       "98  2September2019                  6500                                0   \n",
       "\n",
       "    Promo2...Kids.Free.After.5pm. Average.Gas.Cost..New.England Day.of.Week  \\\n",
       "0                               0                         $2.61      Monday   \n",
       "1                               0                         $2.67     Tuesday   \n",
       "2                               0                         $2.75   Wednesday   \n",
       "3                               0                         $3.14    Thursday   \n",
       "4                               0                         $2.91      Friday   \n",
       "..                            ...                           ...         ...   \n",
       "94                              0                         $2.50    Thursday   \n",
       "95                              0                         $2.30      Friday   \n",
       "96                              0                         $2.35    Saturday   \n",
       "97                              0                         $2.54      Sunday   \n",
       "98                              1                         $2.62      Monday   \n",
       "\n",
       "    High.Temperature   Weather  Day.Passes.Sold  Water.Bottles.Sold  \\\n",
       "0                 61     Sunny             2727                2990   \n",
       "1                 67  Overcast             1696                1589   \n",
       "2                 61     Sunny             1175                1650   \n",
       "3                 69     Rainy              850                1591   \n",
       "4                 63  Overcast             2296                2779   \n",
       "..               ...       ...              ...                 ...   \n",
       "94                75     Sunny             1508                1974   \n",
       "95                79  Overcast             3999                4740   \n",
       "96                80     Sunny             3274                4579   \n",
       "97                76  Overcast             3068                3887   \n",
       "98                72     Sunny             3411                4114   \n",
       "\n",
       "    Lobster.Rolls.Sold  Ice.Cream.Cones.Sold  \\\n",
       "0                 1927                  2484   \n",
       "1                 1927                  1626   \n",
       "2                 1721                  1089   \n",
       "3                  918                  1358   \n",
       "4                 1920                  2039   \n",
       "..                 ...                   ...   \n",
       "94                2317                  1663   \n",
       "95                2957                  4437   \n",
       "96                1982                  2874   \n",
       "97                2397                  2732   \n",
       "98                3093                  3744   \n",
       "\n",
       "    Larry.the.Lobster.Stuffed.Animals  TotalDailyRev  \n",
       "0                                 169      55509.868  \n",
       "1                                 185      40709.758  \n",
       "2                                  83      31696.150  \n",
       "3                                  87      22787.800  \n",
       "4                                 202      49656.828  \n",
       "..                                ...            ...  \n",
       "94                                 77      41960.048  \n",
       "95                                389      86131.970  \n",
       "96                                320      65784.720  \n",
       "97                                183      64981.580  \n",
       "98                                296      77921.194  \n",
       "\n",
       "[99 rows x 14 columns]"
      ]
     },
     "execution_count": 7,
     "metadata": {},
     "output_type": "execute_result"
    }
   ],
   "source": [
    "lob"
   ]
  },
  {
   "cell_type": "code",
   "execution_count": 8,
   "metadata": {},
   "outputs": [
    {
     "name": "stdout",
     "output_type": "stream",
     "text": [
      "<class 'pandas.core.frame.DataFrame'>\n",
      "RangeIndex: 99 entries, 0 to 98\n",
      "Data columns (total 14 columns):\n",
      "Date                                 99 non-null object\n",
      "Ad.Spend..Prior.Week                 99 non-null int64\n",
      "Promo1...Kids.Free.before.10am.      99 non-null int64\n",
      "Promo2...Kids.Free.After.5pm.        99 non-null int64\n",
      "Average.Gas.Cost..New.England        99 non-null object\n",
      "Day.of.Week                          99 non-null object\n",
      "High.Temperature                     99 non-null int64\n",
      "Weather                              99 non-null object\n",
      "Day.Passes.Sold                      99 non-null int64\n",
      "Water.Bottles.Sold                   99 non-null int64\n",
      "Lobster.Rolls.Sold                   99 non-null int64\n",
      "Ice.Cream.Cones.Sold                 99 non-null int64\n",
      "Larry.the.Lobster.Stuffed.Animals    99 non-null int64\n",
      "TotalDailyRev                        99 non-null float64\n",
      "dtypes: float64(1), int64(9), object(4)\n",
      "memory usage: 11.0+ KB\n"
     ]
    }
   ],
   "source": [
    "lob.info()"
   ]
  },
  {
   "cell_type": "code",
   "execution_count": 9,
   "metadata": {},
   "outputs": [
    {
     "data": {
      "text/plain": [
       "<matplotlib.collections.PathCollection at 0x1a1ba82790>"
      ]
     },
     "execution_count": 9,
     "metadata": {},
     "output_type": "execute_result"
    },
    {
     "data": {
      "image/png": "[encoded data removed]",
      "text/plain": [
       "<Figure size 432x288 with 1 Axes>"
      ]
     },
     "metadata": {
      "needs_background": "light"
     },
     "output_type": "display_data"
    }
   ],
   "source": [
    "from matplotlib import pyplot as plt\n",
    "plt.scatter(lob['Ice.Cream.Cones.Sold'], lob['Day.Passes.Sold'])"
   ]
  },
  {
   "cell_type": "markdown",
   "metadata": {},
   "source": [
    "Ice cream cones sold and day passes sold are closely related. Less day passes sold, less ice cream cone sold. In general, the relationship between ice cream cone sold and day passes sold are more closely within 1500. It is the same as my expectation because either ice cream cone sold and day passes sold are related to how many customers come every day. As we can see, the number of customers come to lobsterland are focused on around 1000. "
   ]
  },
  {
   "cell_type": "code",
   "execution_count": 10,
   "metadata": {},
   "outputs": [
    {
     "data": {
      "text/plain": [
       "<matplotlib.axes._subplots.AxesSubplot at 0x1a1bb84c50>"
      ]
     },
     "execution_count": 10,
     "metadata": {},
     "output_type": "execute_result"
    },
    {
     "data": {
      "image/png": "[encoded data removed]",
      "text/plain": [
       "<Figure size 432x288 with 1 Axes>"
      ]
     },
     "metadata": {
      "needs_background": "light"
     },
     "output_type": "display_data"
    }
   ],
   "source": [
    "sns.regplot(x=lob['Ice.Cream.Cones.Sold'], y=lob['Day.Passes.Sold'])"
   ]
  },
  {
   "cell_type": "code",
   "execution_count": 11,
   "metadata": {},
   "outputs": [
    {
     "data": {
      "text/plain": [
       "<matplotlib.axes._subplots.AxesSubplot at 0x1a1bafa310>"
      ]
     },
     "execution_count": 11,
     "metadata": {},
     "output_type": "execute_result"
    },
    {
     "data": {
      "image/png": "[encoded data removed]",
      "text/plain": [
       "<Figure size 432x288 with 1 Axes>"
      ]
     },
     "metadata": {
      "needs_background": "light"
     },
     "output_type": "display_data"
    }
   ],
   "source": [
    "sns.barplot(x='Weather',y='Larry.the.Lobster.Stuffed.Animals',data=lob)"
   ]
  },
  {
   "cell_type": "markdown",
   "metadata": {},
   "source": [
    "Sales are lowest on rainy days and highest on overcast weather. This is the same as what I expected. In rainy days, people will reduce travel due to inconvenience caused by weather factors, and the sunny day makes people feel too hot, so the overcast weather is always the majority in our daily life."
   ]
  },
  {
   "cell_type": "code",
   "execution_count": 12,
   "metadata": {},
   "outputs": [
    {
     "data": {
      "text/plain": [
       "Text(0.5, 1.0, 'Lobster Rolls Sold per day')"
      ]
     },
     "execution_count": 12,
     "metadata": {},
     "output_type": "execute_result"
    },
    {
     "data": {
      "image/png": "[encoded data removed]",
      "text/plain": [
       "<Figure size 432x288 with 1 Axes>"
      ]
     },
     "metadata": {
      "needs_background": "light"
     },
     "output_type": "display_data"
    }
   ],
   "source": [
    "plt.hist(lob['Lobster.Rolls.Sold'], color = \"orange\",ec='black')\n",
    "plt.xlabel('Lobster.Rolls.Sold')\n",
    "plt.title('Lobster Rolls Sold per day')"
   ]
  },
  {
   "cell_type": "code",
   "execution_count": 13,
   "metadata": {},
   "outputs": [
    {
     "data": {
      "text/plain": [
       "Text(0.5, 1.0, 'Lobster Rolls Sold per day')"
      ]
     },
     "execution_count": 13,
     "metadata": {},
     "output_type": "execute_result"
    },
    {
     "data": {
      "image/png": "[encoded data removed]",
      "text/plain": [
       "<Figure size 432x288 with 1 Axes>"
      ]
     },
     "metadata": {
      "needs_background": "light"
     },
     "output_type": "display_data"
    }
   ],
   "source": [
    "plt.hist(lob['Lobster.Rolls.Sold'],23, color = \"orange\",ec='black')\n",
    "plt.xlabel('Lobster.Rolls.Sold')\n",
    "plt.title('Lobster Rolls Sold per day')"
   ]
  },
  {
   "cell_type": "markdown",
   "metadata": {},
   "source": [
    "The second histogram has more bins and the y-axis become smaller than the first one. Also, the range of every bin become smaller than the first one. We also could see in the second plot, there is a blank in range 3500 (no day sold lobster rolls in range 3500) but in no any blank in the first one, which means the second one is more accurate than the first one."
   ]
  }
 ],
 "metadata": {
  "kernelspec": {
   "display_name": "Python 3",
   "language": "python",
   "name": "python3"
  },
  "language_info": {
   "codemirror_mode": {
    "name": "ipython",
    "version": 3
   },
   "file_extension": ".py",
   "mimetype": "text/x-python",
   "name": "python",
   "nbconvert_exporter": "python",
   "pygments_lexer": "ipython3",
   "version": "3.7.4"
  }
 },
 "nbformat": 4,
 "nbformat_minor": 2
}
