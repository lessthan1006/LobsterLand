{
 "cells": [
  {
   "cell_type": "code",
   "execution_count": 3,
   "metadata": {},
   "outputs": [],
   "source": [
    "import pandas as pd\n",
    "import numpy as np\n",
    "import seaborn as sns"
   ]
  },
  {
   "cell_type": "code",
   "execution_count": 29,
   "metadata": {},
   "outputs": [
    {
     "name": "stdout",
     "output_type": "stream",
     "text": [
      "/Users/yuqizheng/Downloads\n"
     ]
    }
   ],
   "source": [
    "%cd /Users/yuqizheng/Downloads/\n",
    "attractions =  pd.read_csv(\"attractions.csv\")\n",
    "ferris =  pd.read_csv(\"ferris_bueller.csv\")"
   ]
  },
  {
   "cell_type": "markdown",
   "metadata": {},
   "source": [
    "Part I: Market Segmentation"
   ]
  },
  {
   "cell_type": "code",
   "execution_count": 5,
   "metadata": {},
   "outputs": [
    {
     "data": {
      "text/html": [
       "<div>\n",
       "<style scoped>\n",
       "    .dataframe tbody tr th:only-of-type {\n",
       "        vertical-align: middle;\n",
       "    }\n",
       "\n",
       "    .dataframe tbody tr th {\n",
       "        vertical-align: top;\n",
       "    }\n",
       "\n",
       "    .dataframe thead th {\n",
       "        text-align: right;\n",
       "    }\n",
       "</style>\n",
       "<table border=\"1\" class=\"dataframe\">\n",
       "  <thead>\n",
       "    <tr style=\"text-align: right;\">\n",
       "      <th></th>\n",
       "      <th>userID</th>\n",
       "      <th>tallscary</th>\n",
       "      <th>coasterdrop</th>\n",
       "      <th>coasterloop</th>\n",
       "      <th>waterslide</th>\n",
       "      <th>wavepool</th>\n",
       "      <th>restaurants</th>\n",
       "      <th>openspaces</th>\n",
       "      <th>giftshop</th>\n",
       "      <th>smoothrides</th>\n",
       "      <th>child_rides</th>\n",
       "    </tr>\n",
       "  </thead>\n",
       "  <tbody>\n",
       "    <tr>\n",
       "      <td>0</td>\n",
       "      <td>1</td>\n",
       "      <td>4</td>\n",
       "      <td>6</td>\n",
       "      <td>5</td>\n",
       "      <td>3</td>\n",
       "      <td>2</td>\n",
       "      <td>6</td>\n",
       "      <td>4</td>\n",
       "      <td>1</td>\n",
       "      <td>6</td>\n",
       "      <td>6</td>\n",
       "    </tr>\n",
       "    <tr>\n",
       "      <td>1</td>\n",
       "      <td>2</td>\n",
       "      <td>3</td>\n",
       "      <td>6</td>\n",
       "      <td>5</td>\n",
       "      <td>3</td>\n",
       "      <td>4</td>\n",
       "      <td>4</td>\n",
       "      <td>4</td>\n",
       "      <td>1</td>\n",
       "      <td>6</td>\n",
       "      <td>4</td>\n",
       "    </tr>\n",
       "    <tr>\n",
       "      <td>2</td>\n",
       "      <td>3</td>\n",
       "      <td>4</td>\n",
       "      <td>6</td>\n",
       "      <td>3</td>\n",
       "      <td>4</td>\n",
       "      <td>5</td>\n",
       "      <td>6</td>\n",
       "      <td>3</td>\n",
       "      <td>1</td>\n",
       "      <td>3</td>\n",
       "      <td>5</td>\n",
       "    </tr>\n",
       "    <tr>\n",
       "      <td>3</td>\n",
       "      <td>4</td>\n",
       "      <td>6</td>\n",
       "      <td>6</td>\n",
       "      <td>4</td>\n",
       "      <td>4</td>\n",
       "      <td>6</td>\n",
       "      <td>6</td>\n",
       "      <td>4</td>\n",
       "      <td>3</td>\n",
       "      <td>0</td>\n",
       "      <td>2</td>\n",
       "    </tr>\n",
       "    <tr>\n",
       "      <td>4</td>\n",
       "      <td>5</td>\n",
       "      <td>4</td>\n",
       "      <td>6</td>\n",
       "      <td>4</td>\n",
       "      <td>4</td>\n",
       "      <td>1</td>\n",
       "      <td>6</td>\n",
       "      <td>4</td>\n",
       "      <td>0</td>\n",
       "      <td>6</td>\n",
       "      <td>6</td>\n",
       "    </tr>\n",
       "  </tbody>\n",
       "</table>\n",
       "</div>"
      ],
      "text/plain": [
       "   userID  tallscary  coasterdrop  coasterloop  waterslide  wavepool  \\\n",
       "0       1          4            6            5           3         2   \n",
       "1       2          3            6            5           3         4   \n",
       "2       3          4            6            3           4         5   \n",
       "3       4          6            6            4           4         6   \n",
       "4       5          4            6            4           4         1   \n",
       "\n",
       "   restaurants  openspaces  giftshop  smoothrides  child_rides  \n",
       "0            6           4         1            6            6  \n",
       "1            4           4         1            6            4  \n",
       "2            6           3         1            3            5  \n",
       "3            6           4         3            0            2  \n",
       "4            6           4         0            6            6  "
      ]
     },
     "execution_count": 5,
     "metadata": {},
     "output_type": "execute_result"
    }
   ],
   "source": [
    "attractions.head()"
   ]
  },
  {
   "cell_type": "code",
   "execution_count": 6,
   "metadata": {},
   "outputs": [],
   "source": [
    "attractions.drop('userID',1,inplace=True)"
   ]
  },
  {
   "cell_type": "code",
   "execution_count": 7,
   "metadata": {},
   "outputs": [
    {
     "data": {
      "text/html": [
       "<div>\n",
       "<style scoped>\n",
       "    .dataframe tbody tr th:only-of-type {\n",
       "        vertical-align: middle;\n",
       "    }\n",
       "\n",
       "    .dataframe tbody tr th {\n",
       "        vertical-align: top;\n",
       "    }\n",
       "\n",
       "    .dataframe thead th {\n",
       "        text-align: right;\n",
       "    }\n",
       "</style>\n",
       "<table border=\"1\" class=\"dataframe\">\n",
       "  <thead>\n",
       "    <tr style=\"text-align: right;\">\n",
       "      <th></th>\n",
       "      <th>tallscary</th>\n",
       "      <th>coasterdrop</th>\n",
       "      <th>coasterloop</th>\n",
       "      <th>waterslide</th>\n",
       "      <th>wavepool</th>\n",
       "      <th>restaurants</th>\n",
       "      <th>openspaces</th>\n",
       "      <th>giftshop</th>\n",
       "      <th>smoothrides</th>\n",
       "      <th>child_rides</th>\n",
       "    </tr>\n",
       "  </thead>\n",
       "  <tbody>\n",
       "    <tr>\n",
       "      <td>0</td>\n",
       "      <td>4</td>\n",
       "      <td>6</td>\n",
       "      <td>5</td>\n",
       "      <td>3</td>\n",
       "      <td>2</td>\n",
       "      <td>6</td>\n",
       "      <td>4</td>\n",
       "      <td>1</td>\n",
       "      <td>6</td>\n",
       "      <td>6</td>\n",
       "    </tr>\n",
       "    <tr>\n",
       "      <td>1</td>\n",
       "      <td>3</td>\n",
       "      <td>6</td>\n",
       "      <td>5</td>\n",
       "      <td>3</td>\n",
       "      <td>4</td>\n",
       "      <td>4</td>\n",
       "      <td>4</td>\n",
       "      <td>1</td>\n",
       "      <td>6</td>\n",
       "      <td>4</td>\n",
       "    </tr>\n",
       "    <tr>\n",
       "      <td>2</td>\n",
       "      <td>4</td>\n",
       "      <td>6</td>\n",
       "      <td>3</td>\n",
       "      <td>4</td>\n",
       "      <td>5</td>\n",
       "      <td>6</td>\n",
       "      <td>3</td>\n",
       "      <td>1</td>\n",
       "      <td>3</td>\n",
       "      <td>5</td>\n",
       "    </tr>\n",
       "    <tr>\n",
       "      <td>3</td>\n",
       "      <td>6</td>\n",
       "      <td>6</td>\n",
       "      <td>4</td>\n",
       "      <td>4</td>\n",
       "      <td>6</td>\n",
       "      <td>6</td>\n",
       "      <td>4</td>\n",
       "      <td>3</td>\n",
       "      <td>0</td>\n",
       "      <td>2</td>\n",
       "    </tr>\n",
       "    <tr>\n",
       "      <td>4</td>\n",
       "      <td>4</td>\n",
       "      <td>6</td>\n",
       "      <td>4</td>\n",
       "      <td>4</td>\n",
       "      <td>1</td>\n",
       "      <td>6</td>\n",
       "      <td>4</td>\n",
       "      <td>0</td>\n",
       "      <td>6</td>\n",
       "      <td>6</td>\n",
       "    </tr>\n",
       "  </tbody>\n",
       "</table>\n",
       "</div>"
      ],
      "text/plain": [
       "   tallscary  coasterdrop  coasterloop  waterslide  wavepool  restaurants  \\\n",
       "0          4            6            5           3         2            6   \n",
       "1          3            6            5           3         4            4   \n",
       "2          4            6            3           4         5            6   \n",
       "3          6            6            4           4         6            6   \n",
       "4          4            6            4           4         1            6   \n",
       "\n",
       "   openspaces  giftshop  smoothrides  child_rides  \n",
       "0           4         1            6            6  \n",
       "1           4         1            6            4  \n",
       "2           3         1            3            5  \n",
       "3           4         3            0            2  \n",
       "4           4         0            6            6  "
      ]
     },
     "execution_count": 7,
     "metadata": {},
     "output_type": "execute_result"
    }
   ],
   "source": [
    "attractions.head()"
   ]
  },
  {
   "cell_type": "code",
   "execution_count": 18,
   "metadata": {
    "scrolled": true
   },
   "outputs": [
    {
     "data": {
      "text/plain": [
       "(10.0, 0.0)"
      ]
     },
     "execution_count": 18,
     "metadata": {},
     "output_type": "execute_result"
    },
    {
     "data": {
      "image/png": "[encoded data removed]",
      "text/plain": [
       "<Figure size 1296x432 with 2 Axes>"
      ]
     },
     "metadata": {
      "needs_background": "light"
     },
     "output_type": "display_data"
    }
   ],
   "source": [
    "import matplotlib.pyplot as plt\n",
    "corr = attractions.corr()\n",
    "plt.figure(figsize=(18,6))\n",
    "plot_ = sns.heatmap(corr, annot=True, cmap=\"coolwarm\")\n",
    "bottom, top = plot_.get_ylim()\n",
    "plot_.set_ylim(bottom + 0.5, top - 0.5)"
   ]
  },
  {
   "cell_type": "markdown",
   "metadata": {},
   "source": [
    "Question A: Through this heatmap, we can see the correlation between wavepool and waterslide is 0.64 which is higher than most of other pairs. Since wave pools are often a major feature of water parks, so it is reasonable have a high correlation with the waterslide. We also notice the second high correlation are between child_rides-restaurants and child_rides-smoothrides, both of the two pairs's correlation are 0.21. Because children need more rest and energy through meals than adults, and children can only play simple rides. As a result, the more children there are, the more restaurants and smooth rides increase."
   ]
  },
  {
   "cell_type": "code",
   "execution_count": 19,
   "metadata": {},
   "outputs": [
    {
     "data": {
      "text/html": [
       "<div>\n",
       "<style scoped>\n",
       "    .dataframe tbody tr th:only-of-type {\n",
       "        vertical-align: middle;\n",
       "    }\n",
       "\n",
       "    .dataframe tbody tr th {\n",
       "        vertical-align: top;\n",
       "    }\n",
       "\n",
       "    .dataframe thead th {\n",
       "        text-align: right;\n",
       "    }\n",
       "</style>\n",
       "<table border=\"1\" class=\"dataframe\">\n",
       "  <thead>\n",
       "    <tr style=\"text-align: right;\">\n",
       "      <th></th>\n",
       "      <th>tallscary</th>\n",
       "      <th>coasterdrop</th>\n",
       "      <th>coasterloop</th>\n",
       "      <th>waterslide</th>\n",
       "      <th>wavepool</th>\n",
       "      <th>restaurants</th>\n",
       "      <th>openspaces</th>\n",
       "      <th>giftshop</th>\n",
       "      <th>smoothrides</th>\n",
       "      <th>child_rides</th>\n",
       "    </tr>\n",
       "  </thead>\n",
       "  <tbody>\n",
       "    <tr>\n",
       "      <td>count</td>\n",
       "      <td>1000.000000</td>\n",
       "      <td>1000.000000</td>\n",
       "      <td>1000.000000</td>\n",
       "      <td>1000.000000</td>\n",
       "      <td>1000.000000</td>\n",
       "      <td>1000.000000</td>\n",
       "      <td>1000.000000</td>\n",
       "      <td>1000.000000</td>\n",
       "      <td>1000.00000</td>\n",
       "      <td>1000.000000</td>\n",
       "    </tr>\n",
       "    <tr>\n",
       "      <td>mean</td>\n",
       "      <td>4.470000</td>\n",
       "      <td>5.710000</td>\n",
       "      <td>4.651000</td>\n",
       "      <td>4.097000</td>\n",
       "      <td>3.617000</td>\n",
       "      <td>4.639000</td>\n",
       "      <td>4.264000</td>\n",
       "      <td>1.241000</td>\n",
       "      <td>3.53800</td>\n",
       "      <td>4.293000</td>\n",
       "    </tr>\n",
       "    <tr>\n",
       "      <td>std</td>\n",
       "      <td>1.103775</td>\n",
       "      <td>0.515913</td>\n",
       "      <td>0.921981</td>\n",
       "      <td>1.102182</td>\n",
       "      <td>2.241726</td>\n",
       "      <td>1.306287</td>\n",
       "      <td>0.969146</td>\n",
       "      <td>1.448108</td>\n",
       "      <td>1.63806</td>\n",
       "      <td>1.651023</td>\n",
       "    </tr>\n",
       "    <tr>\n",
       "      <td>min</td>\n",
       "      <td>0.000000</td>\n",
       "      <td>4.000000</td>\n",
       "      <td>2.000000</td>\n",
       "      <td>1.000000</td>\n",
       "      <td>0.000000</td>\n",
       "      <td>0.000000</td>\n",
       "      <td>1.000000</td>\n",
       "      <td>0.000000</td>\n",
       "      <td>0.00000</td>\n",
       "      <td>0.000000</td>\n",
       "    </tr>\n",
       "    <tr>\n",
       "      <td>25%</td>\n",
       "      <td>4.000000</td>\n",
       "      <td>5.000000</td>\n",
       "      <td>4.000000</td>\n",
       "      <td>3.000000</td>\n",
       "      <td>2.000000</td>\n",
       "      <td>4.000000</td>\n",
       "      <td>4.000000</td>\n",
       "      <td>0.000000</td>\n",
       "      <td>2.00000</td>\n",
       "      <td>3.000000</td>\n",
       "    </tr>\n",
       "    <tr>\n",
       "      <td>50%</td>\n",
       "      <td>4.000000</td>\n",
       "      <td>6.000000</td>\n",
       "      <td>5.000000</td>\n",
       "      <td>4.000000</td>\n",
       "      <td>4.000000</td>\n",
       "      <td>5.000000</td>\n",
       "      <td>4.000000</td>\n",
       "      <td>1.000000</td>\n",
       "      <td>4.00000</td>\n",
       "      <td>5.000000</td>\n",
       "    </tr>\n",
       "    <tr>\n",
       "      <td>75%</td>\n",
       "      <td>5.000000</td>\n",
       "      <td>6.000000</td>\n",
       "      <td>5.000000</td>\n",
       "      <td>5.000000</td>\n",
       "      <td>6.000000</td>\n",
       "      <td>6.000000</td>\n",
       "      <td>5.000000</td>\n",
       "      <td>2.000000</td>\n",
       "      <td>5.00000</td>\n",
       "      <td>6.000000</td>\n",
       "    </tr>\n",
       "    <tr>\n",
       "      <td>max</td>\n",
       "      <td>6.000000</td>\n",
       "      <td>6.000000</td>\n",
       "      <td>6.000000</td>\n",
       "      <td>6.000000</td>\n",
       "      <td>6.000000</td>\n",
       "      <td>6.000000</td>\n",
       "      <td>6.000000</td>\n",
       "      <td>6.000000</td>\n",
       "      <td>6.00000</td>\n",
       "      <td>6.000000</td>\n",
       "    </tr>\n",
       "  </tbody>\n",
       "</table>\n",
       "</div>"
      ],
      "text/plain": [
       "         tallscary  coasterdrop  coasterloop   waterslide     wavepool  \\\n",
       "count  1000.000000  1000.000000  1000.000000  1000.000000  1000.000000   \n",
       "mean      4.470000     5.710000     4.651000     4.097000     3.617000   \n",
       "std       1.103775     0.515913     0.921981     1.102182     2.241726   \n",
       "min       0.000000     4.000000     2.000000     1.000000     0.000000   \n",
       "25%       4.000000     5.000000     4.000000     3.000000     2.000000   \n",
       "50%       4.000000     6.000000     5.000000     4.000000     4.000000   \n",
       "75%       5.000000     6.000000     5.000000     5.000000     6.000000   \n",
       "max       6.000000     6.000000     6.000000     6.000000     6.000000   \n",
       "\n",
       "       restaurants   openspaces     giftshop  smoothrides  child_rides  \n",
       "count  1000.000000  1000.000000  1000.000000   1000.00000  1000.000000  \n",
       "mean      4.639000     4.264000     1.241000      3.53800     4.293000  \n",
       "std       1.306287     0.969146     1.448108      1.63806     1.651023  \n",
       "min       0.000000     1.000000     0.000000      0.00000     0.000000  \n",
       "25%       4.000000     4.000000     0.000000      2.00000     3.000000  \n",
       "50%       5.000000     4.000000     1.000000      4.00000     5.000000  \n",
       "75%       6.000000     5.000000     2.000000      5.00000     6.000000  \n",
       "max       6.000000     6.000000     6.000000      6.00000     6.000000  "
      ]
     },
     "execution_count": 19,
     "metadata": {},
     "output_type": "execute_result"
    }
   ],
   "source": [
    "attractions.describe()"
   ]
  },
  {
   "cell_type": "code",
   "execution_count": 23,
   "metadata": {},
   "outputs": [
    {
     "name": "stdout",
     "output_type": "stream",
     "text": [
      "       tallscary  coasterdrop  coasterloop  waterslide  wavepool  restaurants  \\\n",
      "count    1000.00      1000.00      1000.00     1000.00   1000.00      1000.00   \n",
      "mean        0.00        -0.00         0.00       -0.00      0.00        -0.00   \n",
      "std         1.00         1.00         1.00        1.00      1.00         1.00   \n",
      "min        -4.05        -3.32        -2.88       -2.81     -1.61        -3.55   \n",
      "25%        -0.43        -1.38        -0.71       -1.00     -0.72        -0.49   \n",
      "50%        -0.43         0.56         0.38       -0.09      0.17         0.28   \n",
      "75%         0.48         0.56         0.38        0.82      1.06         1.04   \n",
      "max         1.39         0.56         1.46        1.73      1.06         1.04   \n",
      "\n",
      "       openspaces  giftshop  smoothrides  child_rides  \n",
      "count     1000.00   1000.00      1000.00      1000.00  \n",
      "mean        -0.00     -0.00        -0.00        -0.00  \n",
      "std          1.00      1.00         1.00         1.00  \n",
      "min         -3.37     -0.86        -2.16        -2.60  \n",
      "25%         -0.27     -0.86        -0.94        -0.78  \n",
      "50%         -0.27     -0.17         0.28         0.43  \n",
      "75%          0.76      0.52         0.89         1.03  \n",
      "max          1.79      3.29         1.50         1.03  \n"
     ]
    }
   ],
   "source": [
    "from sklearn.preprocessing import StandardScaler\n",
    "scaler = StandardScaler()\n",
    "scaler.fit(attractions)\n",
    "attractions_n = scaler.transform(attractions)\n",
    "attractions_n= pd.DataFrame(data=attractions_n, index=attractions.index, columns=attractions\n",
    ".columns)\n",
    "print(attractions_n.describe().round(2))"
   ]
  },
  {
   "cell_type": "markdown",
   "metadata": {},
   "source": [
    "Question B: No, the variables do not need to be standardized. Because all the variables on a scale of 0 to 6, which means they have the same data type."
   ]
  },
  {
   "cell_type": "code",
   "execution_count": 72,
   "metadata": {},
   "outputs": [],
   "source": [
    "from sklearn.cluster import KMeans"
   ]
  },
  {
   "cell_type": "code",
   "execution_count": 73,
   "metadata": {},
   "outputs": [
    {
     "data": {
      "image/png": "[encoded data removed]",
      "text/plain": [
       "<Figure size 432x288 with 1 Axes>"
      ]
     },
     "metadata": {
      "needs_background": "light"
     },
     "output_type": "display_data"
    }
   ],
   "source": [
    "import matplotlib.pyplot as plt\n",
    "sse = {}\n",
    "for k in range(1, 21):\n",
    " kmeans = KMeans(n_clusters=k, random_state=654)\n",
    " kmeans.fit(attractions_n)\n",
    " sse[k] = kmeans.inertia_\n",
    "plt.title('The Elbow Method')\n",
    "plt.xlabel('k')\n",
    "plt.ylabel('SSE')\n",
    "sns.pointplot(x=list(sse.keys()), y=list(sse.values()));"
   ]
  },
  {
   "cell_type": "code",
   "execution_count": 74,
   "metadata": {},
   "outputs": [],
   "source": [
    "kmeans = KMeans(n_clusters=2, random_state=654)\n",
    "kmeans.fit(attractions_n)\n",
    "cluster_labels = kmeans.labels_"
   ]
  },
  {
   "cell_type": "markdown",
   "metadata": {},
   "source": [
    "Question D: From the Elbow Method graph above, the SSE dropped sharply between k=1 and k=2. Thus, the graph suggests us to use 2 clusters for this data set. "
   ]
  },
  {
   "cell_type": "code",
   "execution_count": 75,
   "metadata": {
    "scrolled": true
   },
   "outputs": [
    {
     "data": {
      "text/html": [
       "<div>\n",
       "<style scoped>\n",
       "    .dataframe tbody tr th:only-of-type {\n",
       "        vertical-align: middle;\n",
       "    }\n",
       "\n",
       "    .dataframe tbody tr th {\n",
       "        vertical-align: top;\n",
       "    }\n",
       "\n",
       "    .dataframe thead th {\n",
       "        text-align: right;\n",
       "    }\n",
       "</style>\n",
       "<table border=\"1\" class=\"dataframe\">\n",
       "  <thead>\n",
       "    <tr style=\"text-align: right;\">\n",
       "      <th></th>\n",
       "      <th>tallscary</th>\n",
       "      <th>coasterdrop</th>\n",
       "      <th>coasterloop</th>\n",
       "      <th>waterslide</th>\n",
       "      <th>wavepool</th>\n",
       "      <th>restaurants</th>\n",
       "      <th>openspaces</th>\n",
       "      <th>giftshop</th>\n",
       "      <th>smoothrides</th>\n",
       "      <th>child_rides</th>\n",
       "    </tr>\n",
       "    <tr>\n",
       "      <th>Cluster</th>\n",
       "      <th></th>\n",
       "      <th></th>\n",
       "      <th></th>\n",
       "      <th></th>\n",
       "      <th></th>\n",
       "      <th></th>\n",
       "      <th></th>\n",
       "      <th></th>\n",
       "      <th></th>\n",
       "      <th></th>\n",
       "    </tr>\n",
       "  </thead>\n",
       "  <tbody>\n",
       "    <tr>\n",
       "      <td>0</td>\n",
       "      <td>4.48</td>\n",
       "      <td>5.72</td>\n",
       "      <td>4.66</td>\n",
       "      <td>3.19</td>\n",
       "      <td>1.53</td>\n",
       "      <td>4.65</td>\n",
       "      <td>4.28</td>\n",
       "      <td>1.25</td>\n",
       "      <td>3.60</td>\n",
       "      <td>4.34</td>\n",
       "    </tr>\n",
       "    <tr>\n",
       "      <td>1</td>\n",
       "      <td>4.46</td>\n",
       "      <td>5.70</td>\n",
       "      <td>4.65</td>\n",
       "      <td>4.85</td>\n",
       "      <td>5.34</td>\n",
       "      <td>4.63</td>\n",
       "      <td>4.25</td>\n",
       "      <td>1.23</td>\n",
       "      <td>3.49</td>\n",
       "      <td>4.26</td>\n",
       "    </tr>\n",
       "  </tbody>\n",
       "</table>\n",
       "</div>"
      ],
      "text/plain": [
       "         tallscary  coasterdrop  coasterloop  waterslide  wavepool  \\\n",
       "Cluster                                                              \n",
       "0             4.48         5.72         4.66        3.19      1.53   \n",
       "1             4.46         5.70         4.65        4.85      5.34   \n",
       "\n",
       "         restaurants  openspaces  giftshop  smoothrides  child_rides  \n",
       "Cluster                                                               \n",
       "0               4.65        4.28      1.25         3.60         4.34  \n",
       "1               4.63        4.25      1.23         3.49         4.26  "
      ]
     },
     "execution_count": 75,
     "metadata": {},
     "output_type": "execute_result"
    }
   ],
   "source": [
    "attractionsx = attractions.assign(Cluster = cluster_labels)\n",
    "attractionsx.groupby(['Cluster']).agg({\n",
    "'tallscary': 'mean',\n",
    "'coasterdrop': 'mean',\n",
    "'coasterloop':'mean',\n",
    "'waterslide':'mean',\n",
    "'wavepool':'mean',\n",
    "'restaurants':'mean',\n",
    "'openspaces':'mean',\n",
    "'giftshop':'mean',\n",
    "'smoothrides':'mean',\n",
    "'child_rides':'mean',\n",
    "}).round(2)\n"
   ]
  },
  {
   "cell_type": "markdown",
   "metadata": {},
   "source": [
    "Question G: \n",
    "Cluster 0: family group with kids don't enjoy water park\n",
    "Cluster 1: family group with kids enjoy water park"
   ]
  },
  {
   "cell_type": "markdown",
   "metadata": {},
   "source": [
    "Question H: For cluster 0, Lobster Land should put more budget in roller cosaters and safe rides because this cluster both like to use roller coasters and child rides. It is very obvious this cluster exist both adults and kids, therefore, restaurants would also be a good place for them to dining and have a rest. But this group of people fewer like to go to water park, I would like to suggest Lobster Land put more budget to construct various types of coasters and decorate restaurants more dreamy and childlike. For cluster 1, it is very similar as cluster 0 in coasters, smoothrides, child rides as well as restaurants. The only difference is people in cluster 1 enjoy water park a lot. Therefore, based on the above analytics, I think Lobster Land can increase the construction and investment of the water park, especially the wavepool, when targeting this group of people, because they are most interested in the facilities of the water park in addition to the coaster drop. In addition, we can build a retail stall next to wavepool, specializing in water park essentials such as swimwear, swimming caps, swimming glasses and swimming rings. Unlike giftshop, this retail store not only sells these water supplies, but also provides rental services. In addition, we can also build an automatic storage space so that customers who go to the water park can rent a locker to store their personal belongings for a very small fee."
   ]
  },
  {
   "cell_type": "markdown",
   "metadata": {},
   "source": [
    "Part II: Conjoint Analysis with a Linear Model"
   ]
  },
  {
   "cell_type": "code",
   "execution_count": 76,
   "metadata": {},
   "outputs": [
    {
     "data": {
      "text/html": [
       "<div>\n",
       "<style scoped>\n",
       "    .dataframe tbody tr th:only-of-type {\n",
       "        vertical-align: middle;\n",
       "    }\n",
       "\n",
       "    .dataframe tbody tr th {\n",
       "        vertical-align: top;\n",
       "    }\n",
       "\n",
       "    .dataframe thead th {\n",
       "        text-align: right;\n",
       "    }\n",
       "</style>\n",
       "<table border=\"1\" class=\"dataframe\">\n",
       "  <thead>\n",
       "    <tr style=\"text-align: right;\">\n",
       "      <th></th>\n",
       "      <th>paxpercar</th>\n",
       "      <th>height</th>\n",
       "      <th>totaltime</th>\n",
       "      <th>rating</th>\n",
       "    </tr>\n",
       "  </thead>\n",
       "  <tbody>\n",
       "    <tr>\n",
       "      <td>count</td>\n",
       "      <td>432.000000</td>\n",
       "      <td>432.000000</td>\n",
       "      <td>432.000000</td>\n",
       "      <td>432.000000</td>\n",
       "    </tr>\n",
       "    <tr>\n",
       "      <td>mean</td>\n",
       "      <td>3.666667</td>\n",
       "      <td>200.000000</td>\n",
       "      <td>246.666667</td>\n",
       "      <td>5.748171</td>\n",
       "    </tr>\n",
       "    <tr>\n",
       "      <td>std</td>\n",
       "      <td>1.701644</td>\n",
       "      <td>81.744324</td>\n",
       "      <td>139.045470</td>\n",
       "      <td>2.365423</td>\n",
       "    </tr>\n",
       "    <tr>\n",
       "      <td>min</td>\n",
       "      <td>2.000000</td>\n",
       "      <td>100.000000</td>\n",
       "      <td>80.000000</td>\n",
       "      <td>1.010000</td>\n",
       "    </tr>\n",
       "    <tr>\n",
       "      <td>25%</td>\n",
       "      <td>2.000000</td>\n",
       "      <td>100.000000</td>\n",
       "      <td>80.000000</td>\n",
       "      <td>4.117500</td>\n",
       "    </tr>\n",
       "    <tr>\n",
       "      <td>50%</td>\n",
       "      <td>3.000000</td>\n",
       "      <td>200.000000</td>\n",
       "      <td>240.000000</td>\n",
       "      <td>5.950000</td>\n",
       "    </tr>\n",
       "    <tr>\n",
       "      <td>75%</td>\n",
       "      <td>6.000000</td>\n",
       "      <td>300.000000</td>\n",
       "      <td>420.000000</td>\n",
       "      <td>7.670000</td>\n",
       "    </tr>\n",
       "    <tr>\n",
       "      <td>max</td>\n",
       "      <td>6.000000</td>\n",
       "      <td>300.000000</td>\n",
       "      <td>420.000000</td>\n",
       "      <td>10.000000</td>\n",
       "    </tr>\n",
       "  </tbody>\n",
       "</table>\n",
       "</div>"
      ],
      "text/plain": [
       "        paxpercar      height   totaltime      rating\n",
       "count  432.000000  432.000000  432.000000  432.000000\n",
       "mean     3.666667  200.000000  246.666667    5.748171\n",
       "std      1.701644   81.744324  139.045470    2.365423\n",
       "min      2.000000  100.000000   80.000000    1.010000\n",
       "25%      2.000000  100.000000   80.000000    4.117500\n",
       "50%      3.000000  200.000000  240.000000    5.950000\n",
       "75%      6.000000  300.000000  420.000000    7.670000\n",
       "max      6.000000  300.000000  420.000000   10.000000"
      ]
     },
     "execution_count": 76,
     "metadata": {},
     "output_type": "execute_result"
    }
   ],
   "source": [
    "ferris.describe()"
   ]
  },
  {
   "cell_type": "code",
   "execution_count": 77,
   "metadata": {},
   "outputs": [
    {
     "data": {
      "text/html": [
       "<div>\n",
       "<style scoped>\n",
       "    .dataframe tbody tr th:only-of-type {\n",
       "        vertical-align: middle;\n",
       "    }\n",
       "\n",
       "    .dataframe tbody tr th {\n",
       "        vertical-align: top;\n",
       "    }\n",
       "\n",
       "    .dataframe thead th {\n",
       "        text-align: right;\n",
       "    }\n",
       "</style>\n",
       "<table border=\"1\" class=\"dataframe\">\n",
       "  <thead>\n",
       "    <tr style=\"text-align: right;\">\n",
       "      <th></th>\n",
       "      <th>paxpercar</th>\n",
       "      <th>height</th>\n",
       "      <th>opentop</th>\n",
       "      <th>totaltime</th>\n",
       "      <th>sway</th>\n",
       "      <th>color</th>\n",
       "      <th>rating</th>\n",
       "    </tr>\n",
       "  </thead>\n",
       "  <tbody>\n",
       "    <tr>\n",
       "      <td>0</td>\n",
       "      <td>2</td>\n",
       "      <td>100</td>\n",
       "      <td>Y</td>\n",
       "      <td>80</td>\n",
       "      <td>Yes</td>\n",
       "      <td>Red</td>\n",
       "      <td>1.04</td>\n",
       "    </tr>\n",
       "    <tr>\n",
       "      <td>1</td>\n",
       "      <td>2</td>\n",
       "      <td>100</td>\n",
       "      <td>Y</td>\n",
       "      <td>80</td>\n",
       "      <td>Yes</td>\n",
       "      <td>Green</td>\n",
       "      <td>1.71</td>\n",
       "    </tr>\n",
       "    <tr>\n",
       "      <td>2</td>\n",
       "      <td>2</td>\n",
       "      <td>100</td>\n",
       "      <td>Y</td>\n",
       "      <td>80</td>\n",
       "      <td>Yes</td>\n",
       "      <td>Purple</td>\n",
       "      <td>4.42</td>\n",
       "    </tr>\n",
       "    <tr>\n",
       "      <td>3</td>\n",
       "      <td>2</td>\n",
       "      <td>100</td>\n",
       "      <td>Y</td>\n",
       "      <td>80</td>\n",
       "      <td>Yes</td>\n",
       "      <td>White</td>\n",
       "      <td>2.20</td>\n",
       "    </tr>\n",
       "    <tr>\n",
       "      <td>4</td>\n",
       "      <td>2</td>\n",
       "      <td>100</td>\n",
       "      <td>Y</td>\n",
       "      <td>80</td>\n",
       "      <td>No</td>\n",
       "      <td>Red</td>\n",
       "      <td>6.09</td>\n",
       "    </tr>\n",
       "  </tbody>\n",
       "</table>\n",
       "</div>"
      ],
      "text/plain": [
       "   paxpercar  height opentop  totaltime sway   color  rating\n",
       "0          2     100       Y         80  Yes     Red    1.04\n",
       "1          2     100       Y         80  Yes   Green    1.71\n",
       "2          2     100       Y         80  Yes  Purple    4.42\n",
       "3          2     100       Y         80  Yes   White    2.20\n",
       "4          2     100       Y         80   No     Red    6.09"
      ]
     },
     "execution_count": 77,
     "metadata": {},
     "output_type": "execute_result"
    }
   ],
   "source": [
    "ferris.head()"
   ]
  },
  {
   "cell_type": "markdown",
   "metadata": {},
   "source": [
    "Question B: Based on the descriptions shown above, \"paxpercar\",\"height\", \"totaltime\" and \"rating\" are numeric; \"opentop\", \"sway\" and \"color\" are categorical."
   ]
  },
  {
   "cell_type": "code",
   "execution_count": 78,
   "metadata": {},
   "outputs": [
    {
     "data": {
      "text/plain": [
       "Index(['rating', 'paxpercar_3', 'paxpercar_6', 'height_200', 'height_300',\n",
       "       'opentop_Y', 'sway_Yes', 'color_Purple', 'color_Red', 'color_White',\n",
       "       'totaltime_240', 'totaltime_420'],\n",
       "      dtype='object')"
      ]
     },
     "execution_count": 78,
     "metadata": {},
     "output_type": "execute_result"
    }
   ],
   "source": [
    "ferris2 = pd.get_dummies(ferris, drop_first=True, columns=['paxpercar', 'height','opentop','sway','color','totaltime'])\n",
    "ferris2.columns"
   ]
  },
  {
   "cell_type": "code",
   "execution_count": 79,
   "metadata": {
    "scrolled": true
   },
   "outputs": [
    {
     "data": {
      "text/html": [
       "<div>\n",
       "<style scoped>\n",
       "    .dataframe tbody tr th:only-of-type {\n",
       "        vertical-align: middle;\n",
       "    }\n",
       "\n",
       "    .dataframe tbody tr th {\n",
       "        vertical-align: top;\n",
       "    }\n",
       "\n",
       "    .dataframe thead th {\n",
       "        text-align: right;\n",
       "    }\n",
       "</style>\n",
       "<table border=\"1\" class=\"dataframe\">\n",
       "  <thead>\n",
       "    <tr style=\"text-align: right;\">\n",
       "      <th></th>\n",
       "      <th>rating</th>\n",
       "      <th>paxpercar_3</th>\n",
       "      <th>paxpercar_6</th>\n",
       "      <th>height_200</th>\n",
       "      <th>height_300</th>\n",
       "      <th>opentop_Y</th>\n",
       "      <th>sway_Yes</th>\n",
       "      <th>color_Purple</th>\n",
       "      <th>color_Red</th>\n",
       "      <th>color_White</th>\n",
       "      <th>totaltime_240</th>\n",
       "      <th>totaltime_420</th>\n",
       "    </tr>\n",
       "  </thead>\n",
       "  <tbody>\n",
       "    <tr>\n",
       "      <td>0</td>\n",
       "      <td>1.04</td>\n",
       "      <td>0</td>\n",
       "      <td>0</td>\n",
       "      <td>0</td>\n",
       "      <td>0</td>\n",
       "      <td>1</td>\n",
       "      <td>1</td>\n",
       "      <td>0</td>\n",
       "      <td>1</td>\n",
       "      <td>0</td>\n",
       "      <td>0</td>\n",
       "      <td>0</td>\n",
       "    </tr>\n",
       "    <tr>\n",
       "      <td>1</td>\n",
       "      <td>1.71</td>\n",
       "      <td>0</td>\n",
       "      <td>0</td>\n",
       "      <td>0</td>\n",
       "      <td>0</td>\n",
       "      <td>1</td>\n",
       "      <td>1</td>\n",
       "      <td>0</td>\n",
       "      <td>0</td>\n",
       "      <td>0</td>\n",
       "      <td>0</td>\n",
       "      <td>0</td>\n",
       "    </tr>\n",
       "    <tr>\n",
       "      <td>2</td>\n",
       "      <td>4.42</td>\n",
       "      <td>0</td>\n",
       "      <td>0</td>\n",
       "      <td>0</td>\n",
       "      <td>0</td>\n",
       "      <td>1</td>\n",
       "      <td>1</td>\n",
       "      <td>1</td>\n",
       "      <td>0</td>\n",
       "      <td>0</td>\n",
       "      <td>0</td>\n",
       "      <td>0</td>\n",
       "    </tr>\n",
       "    <tr>\n",
       "      <td>3</td>\n",
       "      <td>2.20</td>\n",
       "      <td>0</td>\n",
       "      <td>0</td>\n",
       "      <td>0</td>\n",
       "      <td>0</td>\n",
       "      <td>1</td>\n",
       "      <td>1</td>\n",
       "      <td>0</td>\n",
       "      <td>0</td>\n",
       "      <td>1</td>\n",
       "      <td>0</td>\n",
       "      <td>0</td>\n",
       "    </tr>\n",
       "    <tr>\n",
       "      <td>4</td>\n",
       "      <td>6.09</td>\n",
       "      <td>0</td>\n",
       "      <td>0</td>\n",
       "      <td>0</td>\n",
       "      <td>0</td>\n",
       "      <td>1</td>\n",
       "      <td>0</td>\n",
       "      <td>0</td>\n",
       "      <td>1</td>\n",
       "      <td>0</td>\n",
       "      <td>0</td>\n",
       "      <td>0</td>\n",
       "    </tr>\n",
       "  </tbody>\n",
       "</table>\n",
       "</div>"
      ],
      "text/plain": [
       "   rating  paxpercar_3  paxpercar_6  height_200  height_300  opentop_Y  \\\n",
       "0    1.04            0            0           0           0          1   \n",
       "1    1.71            0            0           0           0          1   \n",
       "2    4.42            0            0           0           0          1   \n",
       "3    2.20            0            0           0           0          1   \n",
       "4    6.09            0            0           0           0          1   \n",
       "\n",
       "   sway_Yes  color_Purple  color_Red  color_White  totaltime_240  \\\n",
       "0         1             0          1            0              0   \n",
       "1         1             0          0            0              0   \n",
       "2         1             1          0            0              0   \n",
       "3         1             0          0            1              0   \n",
       "4         0             0          1            0              0   \n",
       "\n",
       "   totaltime_420  \n",
       "0              0  \n",
       "1              0  \n",
       "2              0  \n",
       "3              0  \n",
       "4              0  "
      ]
     },
     "execution_count": 79,
     "metadata": {},
     "output_type": "execute_result"
    }
   ],
   "source": [
    "ferris2.head()"
   ]
  },
  {
   "cell_type": "code",
   "execution_count": 80,
   "metadata": {},
   "outputs": [],
   "source": [
    "x=ferris2[['paxpercar_3', 'paxpercar_6', 'height_200', 'height_300',\n",
    "       'opentop_Y', 'sway_Yes', 'color_Purple', 'color_Red', 'color_White',\n",
    "       'totaltime_240', 'totaltime_420']]"
   ]
  },
  {
   "cell_type": "code",
   "execution_count": 81,
   "metadata": {},
   "outputs": [],
   "source": [
    "y=ferris2['rating']"
   ]
  },
  {
   "cell_type": "code",
   "execution_count": 82,
   "metadata": {},
   "outputs": [
    {
     "data": {
      "text/plain": [
       "LinearRegression(copy_X=True, fit_intercept=True, n_jobs=None, normalize=False)"
      ]
     },
     "execution_count": 82,
     "metadata": {},
     "output_type": "execute_result"
    }
   ],
   "source": [
    "from sklearn.linear_model import LinearRegression\n",
    "from sklearn import metrics\n",
    "regressor = LinearRegression()\n",
    "regressor.fit(x, y) "
   ]
  },
  {
   "cell_type": "code",
   "execution_count": 83,
   "metadata": {},
   "outputs": [
    {
     "data": {
      "text/plain": [
       "2.5647222222222164"
      ]
     },
     "execution_count": 83,
     "metadata": {},
     "output_type": "execute_result"
    }
   ],
   "source": [
    "regressor.intercept_"
   ]
  },
  {
   "cell_type": "code",
   "execution_count": 84,
   "metadata": {},
   "outputs": [
    {
     "data": {
      "text/html": [
       "<div>\n",
       "<style scoped>\n",
       "    .dataframe tbody tr th:only-of-type {\n",
       "        vertical-align: middle;\n",
       "    }\n",
       "\n",
       "    .dataframe tbody tr th {\n",
       "        vertical-align: top;\n",
       "    }\n",
       "\n",
       "    .dataframe thead th {\n",
       "        text-align: right;\n",
       "    }\n",
       "</style>\n",
       "<table border=\"1\" class=\"dataframe\">\n",
       "  <thead>\n",
       "    <tr style=\"text-align: right;\">\n",
       "      <th></th>\n",
       "      <th>coeffient</th>\n",
       "    </tr>\n",
       "  </thead>\n",
       "  <tbody>\n",
       "    <tr>\n",
       "      <td>paxpercar_3</td>\n",
       "      <td>0.791250</td>\n",
       "    </tr>\n",
       "    <tr>\n",
       "      <td>paxpercar_6</td>\n",
       "      <td>1.500764</td>\n",
       "    </tr>\n",
       "    <tr>\n",
       "      <td>height_200</td>\n",
       "      <td>1.406736</td>\n",
       "    </tr>\n",
       "    <tr>\n",
       "      <td>height_300</td>\n",
       "      <td>2.473819</td>\n",
       "    </tr>\n",
       "    <tr>\n",
       "      <td>opentop_Y</td>\n",
       "      <td>-0.720787</td>\n",
       "    </tr>\n",
       "    <tr>\n",
       "      <td>sway_Yes</td>\n",
       "      <td>-1.269028</td>\n",
       "    </tr>\n",
       "    <tr>\n",
       "      <td>color_Purple</td>\n",
       "      <td>1.905556</td>\n",
       "    </tr>\n",
       "    <tr>\n",
       "      <td>color_Red</td>\n",
       "      <td>3.047130</td>\n",
       "    </tr>\n",
       "    <tr>\n",
       "      <td>color_White</td>\n",
       "      <td>1.762963</td>\n",
       "    </tr>\n",
       "    <tr>\n",
       "      <td>totaltime_240</td>\n",
       "      <td>0.575208</td>\n",
       "    </tr>\n",
       "    <tr>\n",
       "      <td>totaltime_420</td>\n",
       "      <td>0.750556</td>\n",
       "    </tr>\n",
       "  </tbody>\n",
       "</table>\n",
       "</div>"
      ],
      "text/plain": [
       "               coeffient\n",
       "paxpercar_3     0.791250\n",
       "paxpercar_6     1.500764\n",
       "height_200      1.406736\n",
       "height_300      2.473819\n",
       "opentop_Y      -0.720787\n",
       "sway_Yes       -1.269028\n",
       "color_Purple    1.905556\n",
       "color_Red       3.047130\n",
       "color_White     1.762963\n",
       "totaltime_240   0.575208\n",
       "totaltime_420   0.750556"
      ]
     },
     "execution_count": 84,
     "metadata": {},
     "output_type": "execute_result"
    }
   ],
   "source": [
    "code_df=pd.DataFrame(regressor.coef_,x.columns,columns=['coeffient'])\n",
    "code_df"
   ]
  },
  {
   "cell_type": "markdown",
   "metadata": {},
   "source": [
    "Question F: Based on my model, we just simply compare the coeffient of each feature. The higher coeffient, the more customer satisfactoy. Thus, we could see customers prefer the 6 persons car instead of 2 or 3 persons. They also have more preferance of the Ferris with the 300 meters height, red color and 420 total time. They prefer the car do not sway and with closed top too. Based the above customer perferance, the park should use the mentioned features apply to the Ferris Bueller."
   ]
  },
  {
   "cell_type": "code",
   "execution_count": null,
   "metadata": {},
   "outputs": [],
   "source": []
  }
 ],
 "metadata": {
  "kernelspec": {
   "display_name": "Python 3",
   "language": "python",
   "name": "python3"
  },
  "language_info": {
   "codemirror_mode": {
    "name": "ipython",
    "version": 3
   },
   "file_extension": ".py",
   "mimetype": "text/x-python",
   "name": "python",
   "nbconvert_exporter": "python",
   "pygments_lexer": "ipython3",
   "version": "3.7.4"
  }
 },
 "nbformat": 4,
 "nbformat_minor": 2
}
